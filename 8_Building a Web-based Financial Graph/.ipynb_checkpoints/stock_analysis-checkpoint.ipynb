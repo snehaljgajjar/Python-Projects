{
 "cells": [
  {
   "cell_type": "code",
   "execution_count": 23,
   "metadata": {
    "collapsed": false
   },
   "outputs": [
    {
     "data": {
      "text/plain": [
       "'https://cdn.pydata.org/bokeh/release/bokeh-0.12.4.min.css'"
      ]
     },
     "execution_count": 23,
     "metadata": {},
     "output_type": "execute_result"
    }
   ],
   "source": [
    "from pandas_datareader import data\n",
    "import datetime\n",
    "from bokeh.plotting import figure,show,output_file\n",
    "from  bokeh.embed import components\n",
    "from bokeh.resources import CDN #content delivary network\n",
    "\n",
    "start_date=datetime.datetime(2016,11,1)\n",
    "end_date=datetime.datetime(2017,1,25)\n",
    "df=data.DataReader(name=\"AAPL\",data_source=\"yahoo\",start=start_date,end=end_date)\n",
    "\n",
    "\n",
    "def inc_dec(c,o):\n",
    "    if c>o:\n",
    "        value=\"Increase\"\n",
    "    elif c<o:\n",
    "        value=\"Decrease\"\n",
    "    else :\n",
    "        value=\"Equal\"\n",
    "    return value\n",
    "\n",
    "df[\"Status\"]=[inc_dec(c,o) for c,o in zip(df.Close,df.Open)]\n",
    "df[\"Middle\"] =(df.Open+df.Close)/2\n",
    "df[\"Height\"] = abs(df.Close-df.Open)\n",
    "\n",
    "p=figure(x_axis_type='datetime',width=1000,height=300,responsive=True)\n",
    "p.title.text=\"Candlestick Chart\"\n",
    "p.grid.grid_line_alpha=0.3\n",
    "#df.index[df.Close>df.Open]\n",
    "\n",
    "hours_12 = 12*60*60*1000\n",
    "\n",
    "p.segment(df.index,df.High,df.index,df.Low,color=\"Black\")\n",
    "\n",
    "p.rect(df.index[df.Status==\"Increase\"],\n",
    "       df.Middle[df.Status==\"Increase\"],hours_12,df.Height[df.Status==\"Increase\"],\n",
    "      fill_color=\"#00FFFF\",line_color=\"black\")\n",
    "\n",
    "p.rect(df.index[df.Status==\"Decrease\"],\n",
    "        df.Middle[df.Status==\"Decrease\"],\n",
    "       hours_12,df.Height[df.Status==\"Decrease\"],\n",
    "      fill_color=\"#FF4500\",line_color=\"black\")\n",
    "\n",
    "script1,div1 = components(p)\n",
    "cdn_js= CDN.js_files\n",
    "cdn_css=CDN.css_files\n",
    "cdn_js[0]\n",
    "cdn_css[0]"
   ]
  },
  {
   "cell_type": "code",
   "execution_count": 24,
   "metadata": {
    "collapsed": false
   },
   "outputs": [
    {
     "data": {
      "text/plain": [
       "'\\n<script type=\"text/javascript\">\\n    (function() {\\n  var fn = function() {\\n    Bokeh.safely(function() {\\n      var docs_json = {\"23e7ef5d-a953-4ec1-8c73-18632d474846\":{\"roots\":{\"references\":[{\"attributes\":{\"months\":[0,2,4,6,8,10]},\"id\":\"98e99cbc-476a-4471-8767-73073923335a\",\"type\":\"MonthsTicker\"},{\"attributes\":{},\"id\":\"00c7d080-2949-4b7c-a1c4-62f6c7c83ab4\",\"type\":\"ToolEvents\"},{\"attributes\":{\"max_interval\":500.0,\"num_minor_ticks\":0},\"id\":\"69bb66a0-05b2-4958-8781-899530b88d7d\",\"type\":\"AdaptiveTicker\"},{\"attributes\":{\"callback\":null,\"column_names\":[\"height\",\"y\",\"x\"],\"data\":{\"height\":{\"__ndarray__\":\"ANY3MLlRyD8A6zao/dbTPwBVZ7XAHtU/AAAAAAAA6D8AAAAAAADwPwC7DWq/9fQ/gNVZLbBH4T9gdVYL7FEKQACCPLt868E/AD3vxoLC1T/A9Shcj8L5P4BVZ7XAHuU/AFC4HoXrwT+A9Shcj8LlPwBgPlkxXOc/ABSTN8DM3D9AStBf6FH8P0BQbtv3KPQ/QJBnl289+j8AICi37XuEPwB2NuSfmfU/AASvljszwz8AFMlXAincP4CqmEo/4eo/AKqYSj/hyj8A54cRwqPQPwDqB3WRwu0/AAw89x6u5z8AwytJnuvRPwB+qDRiZtY/ACat+IbCxT+AiuQrgRTmP0AQdR+AFPI/wOqsFtij8D8AliAjoMLVP0BQbtv3KPA/AJbqAl5m1j/AqrNaYI/6PwAA5e/eUdg/AFid1QJ7tD8AqphKP+HaP4AVU+knXPc/\",\"dtype\":\"float64\",\"shape\":[42]},\"x\":{\"__ndarray__\":\"AABAXSWCdUIAAMAoyoJ1QgAAAFrBg3VCAADAvxOEdUIAAIAlZoR1QgAAAPEKhXVCAAAAiFSGdUIAAMDtpoZ1QgAAgFP5hnVCAABAuUuHdUIAAIDqQoh1QgAAgIGMiXVCAADAsoOKdUIAAIAY1op1QgAAwEnNi3VCAADA4BaNdUIAAIBGaY11QgAAQKy7jXVCAAAAEg6OdUIAAEBDBY91QgAAAKlXj3VCAADADqqPdUIAAIB0/I91QgAAgAtGkXVCAABAcZiRdUIAAADX6pF1QgAAgKKPknVCAACAOdmTdUIAAAAFfpR1QgAAwAEalnVCAACAZ2yWdUIAAEDNvpZ1QgAAADMRl3VCAABAZAiYdUIAAADKWph1QgAAwC+tmHVCAACAlf+YdUIAAECSm5p1QgAAwF1Am3VCAADA9ImcdUIAAIBa3Jx1QgAAQMAunXVC\",\"dtype\":\"float64\",\"shape\":[42]},\"y\":{\"__ndarray__\":\"YCNJEK7fW0DgFcH/1itbQAAbECGuj1tA0/TZAderW0AA5e/eUZhbQHY25J+Z8VpA6gd1kcK1WkDq7GRwFBZbQPTDCOFReFtANH12wPV4W0DsbMg/M7tbQFZMpZ9w3VtAAAAAAADgW0BgI0kQrsdbQArXo3A9YltAiskbYGZuW0DWWS2wR4lbQGA+WTFc31tA9MMI4VFIXEBMkBFQ4VJcQEGeXb71oFxAbF9AL1zHXECKyRtgZuZcQJYFE38UDl1A6uxkcBQ2XUDgMNEghTtdQD85ChCFA11ANX12wPU4XUD2KFyPwiVdQCvB4nBm/lxA4BXB/9b7XEA0fXbA9RBdQIrkK4EUVl1A6uxkcBSeXUB00ZDxKLxdQGAjSRCuz11AtYr+0MzEXUCqmEo/4cpdQOoHdZHC5V1Aq7NaYI8CXkBBuW3fo/BdQNU+HY+ZSV5A\",\"dtype\":\"float64\",\"shape\":[42]}}},\"id\":\"ef462411-c8e4-4c39-939c-3d034d28ecfe\",\"type\":\"ColumnDataSource\"},{\"attributes\":{\"line_alpha\":{\"value\":0.1},\"line_color\":{\"value\":\"#1f77b4\"},\"x0\":{\"field\":\"x0\"},\"x1\":{\"field\":\"x1\"},\"y0\":{\"field\":\"y0\"},\"y1\":{\"field\":\"y1\"}},\"id\":\"e4eeb615-96a9-4ac7-8786-bb5423d355fb\",\"type\":\"Segment\"},{\"attributes\":{\"months\":[0,1,2,3,4,5,6,7,8,9,10,11]},\"id\":\"3d8c4b90-675b-4104-b7c7-4235ec67af10\",\"type\":\"MonthsTicker\"},{\"attributes\":{\"base\":24,\"mantissas\":[1,2,4,6,8,12],\"max_interval\":43200000.0,\"min_interval\":3600000.0,\"num_minor_ticks\":0},\"id\":\"27c037ef-b3d7-4d1a-90d8-a29237c4fd99\",\"type\":\"AdaptiveTicker\"},{\"attributes\":{\"months\":[0,4,8]},\"id\":\"b583a42e-fb60-44ac-9b99-2afa101aa622\",\"type\":\"MonthsTicker\"},{\"attributes\":{},\"id\":\"a16d376d-9c9a-4252-9353-89e08821ecad\",\"type\":\"BasicTicker\"},{\"attributes\":{\"line_color\":{\"value\":\"Black\"},\"x0\":{\"field\":\"x0\"},\"x1\":{\"field\":\"x1\"},\"y0\":{\"field\":\"y0\"},\"y1\":{\"field\":\"y1\"}},\"id\":\"938851f6-109b-4d7a-94c9-41851f4702f5\",\"type\":\"Segment\"},{\"attributes\":{\"dimension\":1,\"grid_line_alpha\":{\"value\":0.3},\"plot\":{\"id\":\"38c2cdd4-43c6-49ae-b1e0-a73a50af1ff4\",\"subtype\":\"Figure\",\"type\":\"Plot\"},\"ticker\":{\"id\":\"a16d376d-9c9a-4252-9353-89e08821ecad\",\"type\":\"BasicTicker\"}},\"id\":\"c5d29e91-9a16-4bd9-9a5a-812ec4b2773c\",\"type\":\"Grid\"},{\"attributes\":{\"fill_color\":{\"value\":\"#FF4500\"},\"height\":{\"field\":\"height\",\"units\":\"data\"},\"width\":{\"units\":\"data\",\"value\":43200000},\"x\":{\"field\":\"x\"},\"y\":{\"field\":\"y\"}},\"id\":\"f112a4fb-1ac8-4ab5-bded-c84bcc2c74e1\",\"type\":\"Rect\"},{\"attributes\":{\"plot\":{\"id\":\"38c2cdd4-43c6-49ae-b1e0-a73a50af1ff4\",\"subtype\":\"Figure\",\"type\":\"Plot\"}},\"id\":\"50e3605a-4a16-444e-95c7-76f50b47c2ca\",\"type\":\"HelpTool\"},{\"attributes\":{},\"id\":\"50784745-553c-4adc-96f7-ca7261cbb3a2\",\"type\":\"DatetimeTickFormatter\"},{\"attributes\":{\"callback\":null},\"id\":\"cce415a7-2cd2-436b-b414-bb50a3e33fc7\",\"type\":\"DataRange1d\"},{\"attributes\":{\"callback\":null,\"column_names\":[\"height\",\"y\",\"x\"],\"data\":{\"height\":{\"__ndarray__\":\"gGXBxB+F/z9A4NVyZ2byP0C1T8djZgpAAAAAAAAAAEAAUEzeADPDPwDQRUPGo8A/QFvqIK9H8T+AIOo+ACnsP4Agzy7feuw/AAAAAAAA4D8AWLdB7beuPwD0wwjhUeg/AKuzWmCP6j8AULgeheuxPwAgKLfte4Q/ABSTN8DM3D8=\",\"dtype\":\"float64\",\"shape\":[16]},\"x\":{\"__ndarray__\":\"AACA99KBdUIAAADDd4J1QgAAQIu4hHVCAABAIgKGdUIAAEBQlYh1QgAAALbniHVCAABAfiiLdUIAAADkeot1QgAAAHvEjHVCAABA2k6QdUIAAMA8PZJ1QgAAQJ8rlHVCAADAatCUdUIAAED7UZl1QgAAAPjtmnVCAACAw5KbdUI=\",\"dtype\":\"float64\",\"shape\":[16]},\"y\":{\"__ndarray__\":\"iskbYGYeXEAWE5uP65lbQIDyd+8oXFtAVUyln3CtWkAAAAAAAPhbQEuQEVDh0ltA4BXB/9bDW0DgMNEghXtbQOAw0SCFY1tAlgUTfxQOXUAgzy7fehRdQDV9dsD1SF1Av2GiQQoPXUC1iv7QzMRdQGAjSRCu/11AiskbYGYOXkA=\",\"dtype\":\"float64\",\"shape\":[16]}}},\"id\":\"d8537292-82e1-4d1c-b9dd-9c5c73ee8263\",\"type\":\"ColumnDataSource\"},{\"attributes\":{\"fill_color\":{\"value\":\"#00FFFF\"},\"height\":{\"field\":\"height\",\"units\":\"data\"},\"width\":{\"units\":\"data\",\"value\":43200000},\"x\":{\"field\":\"x\"},\"y\":{\"field\":\"y\"}},\"id\":\"6d5c0d75-97d3-4043-a7ba-8ee82ef6803c\",\"type\":\"Rect\"},{\"attributes\":{\"overlay\":{\"id\":\"5013c185-03ea-406a-8a2c-1f6f35d7f39e\",\"type\":\"BoxAnnotation\"},\"plot\":{\"id\":\"38c2cdd4-43c6-49ae-b1e0-a73a50af1ff4\",\"subtype\":\"Figure\",\"type\":\"Plot\"}},\"id\":\"826299b4-eab1-4398-82d6-6b5ab697c479\",\"type\":\"BoxZoomTool\"},{\"attributes\":{\"months\":[0,6]},\"id\":\"581d9354-80fe-4713-8696-446b23784a61\",\"type\":\"MonthsTicker\"},{\"attributes\":{\"base\":60,\"mantissas\":[1,2,5,10,15,20,30],\"max_interval\":1800000.0,\"min_interval\":1000.0,\"num_minor_ticks\":0},\"id\":\"b9ef3dfa-7173-4f3f-8627-601a99b35e26\",\"type\":\"AdaptiveTicker\"},{\"attributes\":{\"active_drag\":\"auto\",\"active_scroll\":\"auto\",\"active_tap\":\"auto\",\"tools\":[{\"id\":\"3dfe032c-cf2b-4d67-a0bf-64bd59794220\",\"type\":\"PanTool\"},{\"id\":\"5c0af30a-c77d-4259-8c05-236bb4417c4b\",\"type\":\"WheelZoomTool\"},{\"id\":\"826299b4-eab1-4398-82d6-6b5ab697c479\",\"type\":\"BoxZoomTool\"},{\"id\":\"d9df2a74-133c-4f58-8c96-cfee1cb4ce75\",\"type\":\"SaveTool\"},{\"id\":\"6ec70a68-c4a4-4499-86f8-be0719e38d12\",\"type\":\"ResetTool\"},{\"id\":\"50e3605a-4a16-444e-95c7-76f50b47c2ca\",\"type\":\"HelpTool\"}]},\"id\":\"0c35f561-c866-42d8-b298-d52f15c35466\",\"type\":\"Toolbar\"},{\"attributes\":{\"grid_line_alpha\":{\"value\":0.3},\"plot\":{\"id\":\"38c2cdd4-43c6-49ae-b1e0-a73a50af1ff4\",\"subtype\":\"Figure\",\"type\":\"Plot\"},\"ticker\":{\"id\":\"71bd51f5-3293-4ac8-97a5-d016f7a721f2\",\"type\":\"DatetimeTicker\"}},\"id\":\"941adc40-8715-4c19-8919-9188f34b3faa\",\"type\":\"Grid\"},{\"attributes\":{\"plot\":{\"id\":\"38c2cdd4-43c6-49ae-b1e0-a73a50af1ff4\",\"subtype\":\"Figure\",\"type\":\"Plot\"}},\"id\":\"d9df2a74-133c-4f58-8c96-cfee1cb4ce75\",\"type\":\"SaveTool\"},{\"attributes\":{\"callback\":null},\"id\":\"c1b923c6-0de9-4fbe-81db-effe483763ae\",\"type\":\"DataRange1d\"},{\"attributes\":{\"formatter\":{\"id\":\"9ee9a3ee-7d06-4395-8526-e621daa6952e\",\"type\":\"BasicTickFormatter\"},\"plot\":{\"id\":\"38c2cdd4-43c6-49ae-b1e0-a73a50af1ff4\",\"subtype\":\"Figure\",\"type\":\"Plot\"},\"ticker\":{\"id\":\"a16d376d-9c9a-4252-9353-89e08821ecad\",\"type\":\"BasicTicker\"}},\"id\":\"117389a7-cfee-4c8d-ad75-c5b0944547bd\",\"type\":\"LinearAxis\"},{\"attributes\":{\"callback\":null,\"column_names\":[\"x0\",\"x1\",\"y1\",\"y0\"],\"data\":{\"x0\":{\"__ndarray__\":\"AACA99KBdUIAAEBdJYJ1QgAAAMN3gnVCAADAKMqCdUIAAABawYN1QgAAwL8ThHVCAACAJWaEdUIAAECLuIR1QgAAAPEKhXVCAABAIgKGdUIAAACIVIZ1QgAAwO2mhnVCAACAU/mGdUIAAEC5S4d1QgAAgOpCiHVCAABAUJWIdUIAAAC254h1QgAAgIGMiXVCAADAsoOKdUIAAIAY1op1QgAAQH4oi3VCAAAA5HqLdUIAAMBJzYt1QgAAAHvEjHVCAADA4BaNdUIAAIBGaY11QgAAQKy7jXVCAAAAEg6OdUIAAEBDBY91QgAAAKlXj3VCAADADqqPdUIAAIB0/I91QgAAQNpOkHVCAACAC0aRdUIAAEBxmJF1QgAAANfqkXVCAADAPD2SdUIAAICij5J1QgAAgDnZk3VCAABAnyuUdUIAAAAFfpR1QgAAwGrQlHVCAADAARqWdUIAAIBnbJZ1QgAAQM2+lnVCAAAAMxGXdUIAAEBkCJh1QgAAAMpamHVCAADAL62YdUIAAICV/5h1QgAAQPtRmXVCAABAkpuadUIAAAD47Zp1QgAAwF1Am3VCAACAw5KbdUIAAMD0iZx1QgAAgFrcnHVCAABAwC6ddUI=\",\"dtype\":\"float64\",\"shape\":[58]},\"x1\":{\"__ndarray__\":\"AACA99KBdUIAAEBdJYJ1QgAAAMN3gnVCAADAKMqCdUIAAABawYN1QgAAwL8ThHVCAACAJWaEdUIAAECLuIR1QgAAAPEKhXVCAABAIgKGdUIAAACIVIZ1QgAAwO2mhnVCAACAU/mGdUIAAEC5S4d1QgAAgOpCiHVCAABAUJWIdUIAAAC254h1QgAAgIGMiXVCAADAsoOKdUIAAIAY1op1QgAAQH4oi3VCAAAA5HqLdUIAAMBJzYt1QgAAAHvEjHVCAADA4BaNdUIAAIBGaY11QgAAQKy7jXVCAAAAEg6OdUIAAEBDBY91QgAAAKlXj3VCAADADqqPdUIAAIB0/I91QgAAQNpOkHVCAACAC0aRdUIAAEBxmJF1QgAAANfqkXVCAADAPD2SdUIAAICij5J1QgAAgDnZk3VCAABAnyuUdUIAAAAFfpR1QgAAwGrQlHVCAADAARqWdUIAAIBnbJZ1QgAAQM2+lnVCAAAAMxGXdUIAAEBkCJh1QgAAAMpamHVCAADAL62YdUIAAICV/5h1QgAAQPtRmXVCAABAkpuadUIAAAD47Zp1QgAAwF1Am3VCAACAw5KbdUIAAMD0iZx1QgAAgFrcnHVCAABAwC6ddUI=\",\"dtype\":\"float64\",\"shape\":[58]},\"y0\":{\"__ndarray__\":\"KUF/oUdxXECW6gJeZhZcQFVMpZ9w3VtAAAAAAACQW0BBuW3fo6BbQJYFE38U7ltAFK5H4XrUW0BVMZV+wsVbQAAbECGuN1tA0/TZAdfzWkDsUbgehetaQNe+gF64jltAluoCXmaWW0Crs1pgj6JbQL9GkiBc/1tAqphKP+EaXEBBuW3fo+BbQAAbECGu91tAlgUTfxQeXEBq+uyA6wFcQBSTN8DMDFxALQsm/ii8W0BVMZV+woVbQGr67IDrgVtAv2GiQQqXW0AtCyb+KMxbQOxRuB6FG1xAFJM3wMysXEAAAAAAAMBcQKqYSj/h+lxAFJM3wMwMXUDXvoBeuC5dQAAAAAAAIF1AAOXv3lFYXUAAAAAAAGBdQGoV/aGZWV1AQblt36MgXUApQX+hRyFdQOxsyD8zc11AKUF/oUeBXUC/YaJBCkddQBSTN8DMTF1AVme1wB4VXUBBuW3foyBdQL9hokEKN11Aq85qgT2KXUDsUbgehdtdQADl795R2F1A7FG4HoX7XUDsbMg/M9NdQAAbECGu511Av0aSIFwPXkAAAAAAACBeQFUxlX7CBV5AFJM3wMwcXkDT9NkB1zNeQJbqAl5mBl5AluoCXmaGXkA=\",\"dtype\":\"float64\",\"shape\":[58]},\"y1\":{\"__ndarray__\":\"avrsgOuhW0DXvoBeuM5bQOxsyD8zY1tAv2GiQQoHW0BVTKWfcF1bQBSTN8DMbFtA7GzIPzMDW0BWZ7XAHnVaQOxsyD8zo1pAVme1wB4FWkCrzmqBPYpaQJbqAl5mplpAVme1wB41W0CrzmqBPWpbQEG5bd+jgFtAahX9oZnZW0BWZ7XAHpVbQBSTN8DMvFtAQZ5dvvXYW0AUrkfheoRbQClBf6FHkVtAavrsgOtBW0CW6gJeZjZbQAAAAAAAEFtALQsm/ihMW0CrzmqBPUpbQJbqAl5mpltA0/TZAdcTXEC/RpIgXB9cQAAAAAAAcFxA176AXri+XEDXvoBeuM5cQGoV/aGZ6VxAAAAAAADwXEDsUbgehStdQGr67IDrMV1AQZ5dvvXoXEBVMZV+wuVcQL9GkiBcH11AFJM3wMwMXUBqFf2hmRldQOxRuB6F21xAQblt36OwXEAAAAAAAPBcQNP02QHX81xAlgUTfxQeXUAtCyb+KHxdQOxsyD8zk11AluoCXmamXUBVTKWfcI1dQNP02QHXs11AlgUTfxSOXUBVTKWfcO1dQAAbECGu111A176AXrjuXUApQX+hR/FdQAAAAAAA4F1AavrsgOsRXkA=\",\"dtype\":\"float64\",\"shape\":[58]}}},\"id\":\"9481d1df-6adc-4aa3-a149-5458e66aa264\",\"type\":\"ColumnDataSource\"},{\"attributes\":{\"bottom_units\":\"screen\",\"fill_alpha\":{\"value\":0.5},\"fill_color\":{\"value\":\"lightgrey\"},\"left_units\":\"screen\",\"level\":\"overlay\",\"line_alpha\":{\"value\":1.0},\"line_color\":{\"value\":\"black\"},\"line_dash\":[4,4],\"line_width\":{\"value\":2},\"plot\":null,\"render_mode\":\"css\",\"right_units\":\"screen\",\"top_units\":\"screen\"},\"id\":\"5013c185-03ea-406a-8a2c-1f6f35d7f39e\",\"type\":\"BoxAnnotation\"},{\"attributes\":{\"below\":[{\"id\":\"23e0ec1b-ca63-423e-b579-bec441334b62\",\"type\":\"DatetimeAxis\"}],\"left\":[{\"id\":\"117389a7-cfee-4c8d-ad75-c5b0944547bd\",\"type\":\"LinearAxis\"}],\"plot_height\":300,\"plot_width\":1000,\"renderers\":[{\"id\":\"23e0ec1b-ca63-423e-b579-bec441334b62\",\"type\":\"DatetimeAxis\"},{\"id\":\"941adc40-8715-4c19-8919-9188f34b3faa\",\"type\":\"Grid\"},{\"id\":\"117389a7-cfee-4c8d-ad75-c5b0944547bd\",\"type\":\"LinearAxis\"},{\"id\":\"c5d29e91-9a16-4bd9-9a5a-812ec4b2773c\",\"type\":\"Grid\"},{\"id\":\"5013c185-03ea-406a-8a2c-1f6f35d7f39e\",\"type\":\"BoxAnnotation\"},{\"id\":\"affd0ddb-0219-4d9a-9781-c13bdd8fe23d\",\"type\":\"GlyphRenderer\"},{\"id\":\"a1db4d09-4d4b-427a-93ab-57459409b4fa\",\"type\":\"GlyphRenderer\"},{\"id\":\"daa257cc-d664-4154-bb2e-984b995e65fe\",\"type\":\"GlyphRenderer\"}],\"sizing_mode\":\"scale_width\",\"title\":{\"id\":\"200b56af-6407-40dd-86d2-8696d75376db\",\"type\":\"Title\"},\"tool_events\":{\"id\":\"00c7d080-2949-4b7c-a1c4-62f6c7c83ab4\",\"type\":\"ToolEvents\"},\"toolbar\":{\"id\":\"0c35f561-c866-42d8-b298-d52f15c35466\",\"type\":\"Toolbar\"},\"x_range\":{\"id\":\"c1b923c6-0de9-4fbe-81db-effe483763ae\",\"type\":\"DataRange1d\"},\"y_range\":{\"id\":\"cce415a7-2cd2-436b-b414-bb50a3e33fc7\",\"type\":\"DataRange1d\"}},\"id\":\"38c2cdd4-43c6-49ae-b1e0-a73a50af1ff4\",\"subtype\":\"Figure\",\"type\":\"Plot\"},{\"attributes\":{\"plot\":null,\"text\":\"Candlestick Chart\"},\"id\":\"200b56af-6407-40dd-86d2-8696d75376db\",\"type\":\"Title\"},{\"attributes\":{},\"id\":\"9ee9a3ee-7d06-4395-8526-e621daa6952e\",\"type\":\"BasicTickFormatter\"},{\"attributes\":{\"data_source\":{\"id\":\"d8537292-82e1-4d1c-b9dd-9c5c73ee8263\",\"type\":\"ColumnDataSource\"},\"glyph\":{\"id\":\"f112a4fb-1ac8-4ab5-bded-c84bcc2c74e1\",\"type\":\"Rect\"},\"hover_glyph\":null,\"nonselection_glyph\":{\"id\":\"f2d3c67e-3f30-45eb-870e-095eb44a1f45\",\"type\":\"Rect\"},\"selection_glyph\":null},\"id\":\"daa257cc-d664-4154-bb2e-984b995e65fe\",\"type\":\"GlyphRenderer\"},{\"attributes\":{\"fill_alpha\":{\"value\":0.1},\"fill_color\":{\"value\":\"#1f77b4\"},\"height\":{\"field\":\"height\",\"units\":\"data\"},\"line_alpha\":{\"value\":0.1},\"line_color\":{\"value\":\"#1f77b4\"},\"width\":{\"units\":\"data\",\"value\":43200000},\"x\":{\"field\":\"x\"},\"y\":{\"field\":\"y\"}},\"id\":\"f2d3c67e-3f30-45eb-870e-095eb44a1f45\",\"type\":\"Rect\"},{\"attributes\":{\"data_source\":{\"id\":\"ef462411-c8e4-4c39-939c-3d034d28ecfe\",\"type\":\"ColumnDataSource\"},\"glyph\":{\"id\":\"6d5c0d75-97d3-4043-a7ba-8ee82ef6803c\",\"type\":\"Rect\"},\"hover_glyph\":null,\"nonselection_glyph\":{\"id\":\"c3ab1662-8657-4256-bdc8-f21e08f73989\",\"type\":\"Rect\"},\"selection_glyph\":null},\"id\":\"a1db4d09-4d4b-427a-93ab-57459409b4fa\",\"type\":\"GlyphRenderer\"},{\"attributes\":{\"num_minor_ticks\":5},\"id\":\"71bd51f5-3293-4ac8-97a5-d016f7a721f2\",\"type\":\"DatetimeTicker\"},{\"attributes\":{\"plot\":{\"id\":\"38c2cdd4-43c6-49ae-b1e0-a73a50af1ff4\",\"subtype\":\"Figure\",\"type\":\"Plot\"}},\"id\":\"5c0af30a-c77d-4259-8c05-236bb4417c4b\",\"type\":\"WheelZoomTool\"},{\"attributes\":{\"days\":[1,4,7,10,13,16,19,22,25,28]},\"id\":\"e70a6dfb-245d-4590-98d5-063048cb87d2\",\"type\":\"DaysTicker\"},{\"attributes\":{\"plot\":{\"id\":\"38c2cdd4-43c6-49ae-b1e0-a73a50af1ff4\",\"subtype\":\"Figure\",\"type\":\"Plot\"}},\"id\":\"6ec70a68-c4a4-4499-86f8-be0719e38d12\",\"type\":\"ResetTool\"},{\"attributes\":{\"formatter\":{\"id\":\"50784745-553c-4adc-96f7-ca7261cbb3a2\",\"type\":\"DatetimeTickFormatter\"},\"plot\":{\"id\":\"38c2cdd4-43c6-49ae-b1e0-a73a50af1ff4\",\"subtype\":\"Figure\",\"type\":\"Plot\"},\"ticker\":{\"id\":\"71bd51f5-3293-4ac8-97a5-d016f7a721f2\",\"type\":\"DatetimeTicker\"}},\"id\":\"23e0ec1b-ca63-423e-b579-bec441334b62\",\"type\":\"DatetimeAxis\"},{\"attributes\":{},\"id\":\"72c50de5-5c27-462f-95b4-466337e486ff\",\"type\":\"YearsTicker\"},{\"attributes\":{\"fill_alpha\":{\"value\":0.1},\"fill_color\":{\"value\":\"#1f77b4\"},\"height\":{\"field\":\"height\",\"units\":\"data\"},\"line_alpha\":{\"value\":0.1},\"line_color\":{\"value\":\"#1f77b4\"},\"width\":{\"units\":\"data\",\"value\":43200000},\"x\":{\"field\":\"x\"},\"y\":{\"field\":\"y\"}},\"id\":\"c3ab1662-8657-4256-bdc8-f21e08f73989\",\"type\":\"Rect\"},{\"attributes\":{\"data_source\":{\"id\":\"9481d1df-6adc-4aa3-a149-5458e66aa264\",\"type\":\"ColumnDataSource\"},\"glyph\":{\"id\":\"938851f6-109b-4d7a-94c9-41851f4702f5\",\"type\":\"Segment\"},\"hover_glyph\":null,\"nonselection_glyph\":{\"id\":\"e4eeb615-96a9-4ac7-8786-bb5423d355fb\",\"type\":\"Segment\"},\"selection_glyph\":null},\"id\":\"affd0ddb-0219-4d9a-9781-c13bdd8fe23d\",\"type\":\"GlyphRenderer\"},{\"attributes\":{\"plot\":{\"id\":\"38c2cdd4-43c6-49ae-b1e0-a73a50af1ff4\",\"subtype\":\"Figure\",\"type\":\"Plot\"}},\"id\":\"3dfe032c-cf2b-4d67-a0bf-64bd59794220\",\"type\":\"PanTool\"},{\"attributes\":{\"days\":[1,8,15,22]},\"id\":\"9a1f677b-c8ac-474c-ae30-5d0888201c21\",\"type\":\"DaysTicker\"},{\"attributes\":{\"days\":[1,15]},\"id\":\"728f933c-a66f-4349-9333-d22bd2f7b489\",\"type\":\"DaysTicker\"},{\"attributes\":{\"days\":[1,2,3,4,5,6,7,8,9,10,11,12,13,14,15,16,17,18,19,20,21,22,23,24,25,26,27,28,29,30,31]},\"id\":\"5893f38b-2daa-48e4-b164-4215dc007388\",\"type\":\"DaysTicker\"}],\"root_ids\":[\"38c2cdd4-43c6-49ae-b1e0-a73a50af1ff4\"]},\"title\":\"Bokeh Application\",\"version\":\"0.12.4\"}};\\n      var render_items = [{\"docid\":\"23e7ef5d-a953-4ec1-8c73-18632d474846\",\"elementid\":\"ba8cede2-2af9-4ede-8b41-8465af1bc59a\",\"modelid\":\"38c2cdd4-43c6-49ae-b1e0-a73a50af1ff4\"}];\\n      \\n      Bokeh.embed.embed_items(docs_json, render_items);\\n    });\\n  };\\n  if (document.readyState != \"loading\") fn();\\n  else document.addEventListener(\"DOMContentLoaded\", fn);\\n})();\\n\\n</script>'"
      ]
     },
     "execution_count": 24,
     "metadata": {},
     "output_type": "execute_result"
    }
   ],
   "source": []
  },
  {
   "cell_type": "code",
   "execution_count": 22,
   "metadata": {
    "collapsed": false
   },
   "outputs": [
    {
     "data": {
      "text/plain": [
       "'https://cdn.pydata.org/bokeh/release/bokeh-0.12.4.min.css'"
      ]
     },
     "execution_count": 22,
     "metadata": {},
     "output_type": "execute_result"
    }
   ],
   "source": []
  },
  {
   "cell_type": "markdown",
   "metadata": {},
   "source": []
  }
 ],
 "metadata": {
  "kernelspec": {
   "display_name": "Python 3",
   "language": "python",
   "name": "python3"
  },
  "language_info": {
   "codemirror_mode": {
    "name": "ipython",
    "version": 3
   },
   "file_extension": ".py",
   "mimetype": "text/x-python",
   "name": "python",
   "nbconvert_exporter": "python",
   "pygments_lexer": "ipython3",
   "version": "3.5.3rc1"
  }
 },
 "nbformat": 4,
 "nbformat_minor": 2
}
