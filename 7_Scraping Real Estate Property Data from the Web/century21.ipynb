{
 "cells": [
  {
   "cell_type": "code",
   "execution_count": 2,
   "metadata": {
    "collapsed": false
   },
   "outputs": [
    {
     "name": "stdout",
     "output_type": "stream",
     "text": [
      "3\n",
      "http://pythonhow.com/real-estate/rock-springs-wy/LCWYROCKSPRINGS/t=0&s=0.html\n",
      "http://pythonhow.com/real-estate/rock-springs-wy/LCWYROCKSPRINGS/t=0&s=10.html\n",
      "http://pythonhow.com/real-estate/rock-springs-wy/LCWYROCKSPRINGS/t=0&s=20.html\n"
     ]
    }
   ],
   "source": [
    "import requests\n",
    "from bs4 import BeautifulSoup\n",
    "\n",
    "r= requests.get(\"http://pythonhow.com/real-estate/rock-springs-wy/LCWYROCKSPRINGS/\")\n",
    "c=r.content\n",
    "\n",
    "soup=BeautifulSoup(c,\"html.parser\")\n",
    "#print(soup.prettify())\n",
    "\n",
    "all=soup.find_all(\"div\" ,{\"class\":\"propertyRow\"})\n",
    "#len(all)\n",
    "\n",
    "all[0].find(\"h4\",{\"class\":\"propPrice\"}).text.replace(\"\\n\",\"\").replace(\" \",\"\")\n",
    "\n",
    "page_nr=soup.find_all(\"a\",{\"class\":\"Page\"})[-1].text\n",
    "print(page_nr)\n",
    "\n",
    "l=[]\n",
    "base_url =\"http://pythonhow.com/real-estate/rock-springs-wy/LCWYROCKSPRINGS/t=0&s=\"\n",
    "\n",
    "for page in range(0,int(page_nr)*10,10):\n",
    "    print(base_url+str(page)+\".html\")\n",
    "    r=requests.get(base_url+str(page)+\".html\")\n",
    "    c=r.content\n",
    "    soup=BeautifulSoup(c,\"html.parser\")\n",
    "    all=soup.find_all(\"div\" ,{\"class\":\"propertyRow\"})\n",
    "    #print(all)\n",
    "    #print(soup.prettify())\n",
    "    \n",
    "    for item in all:\n",
    "        d={}\n",
    "        d[\"Price\"]= item.find(\"h4\",{\"class\",\"propPrice\"}).text.replace(\"\\n\",\"\").replace(\" \",\"\")\n",
    "        d[\"Address\"]=item.find_all(\"span\",{\"class\",\"propAddressCollapse\"})[0].text\n",
    "        try:\n",
    "            d[\"Locality\"]= item.find_all(\"span\",{\"class\",\"propAddressCollapse\"})[1].text\n",
    "        except:\n",
    "            d[\"Locality\"] = None\n",
    "\n",
    "        #print(item.find(\"h4\",{\"class\",\"propPrice\"}).text.replace(\"\\n\",\"\").replace(\" \",\"\"))\n",
    "        #print(item.find_all(\"span\",{\"class\",\"propAddressCollapse\"})[0].text)\n",
    "        #print(item.find_all(\"span\",{\"class\",\"propAddressCollapse\"})[1].text)\n",
    "\n",
    "        try:\n",
    "            #print(item.find(\"span\",{\"class\",\"infoBed\"}).find(\"b\").text)\n",
    "            d[\"Beds\"]=item.find(\"span\",{\"class\",\"infoBed\"}).find(\"b\").text\n",
    "        except:\n",
    "            #print(None)\n",
    "            d[\"Beds\"]=None\n",
    "\n",
    "        try:\n",
    "            d[\"Area\"]= item.find(\"span\",{\"class\",\"infoSqFt\"}).find(\"b\").text\n",
    "        except:\n",
    "            d[\"Area\"]=None\n",
    "\n",
    "\n",
    "        try:\n",
    "            d[\"Full Baths\"] =item.find(\"span\",{\"class\",\"infoValueFullBath\"}).find(\"b\").text\n",
    "        except:\n",
    "            d[\"Full Baths\"]=None\n",
    "\n",
    "\n",
    "        try:\n",
    "            d[\"Half Baths\"] = item.find(\"span\",{\"class\",\"infoValueHalfBath\"}).find(\"b\").text\n",
    "        except:\n",
    "            d[\"Half Baths\"] = None\n",
    "\n",
    "        for column_group in item.find_all(\"div\" , {\"class\":\"columnGroup\"}):\n",
    "            #print(column_group)\n",
    "            for feature_group,feature_name in zip(column_group.find_all(\"span\",{\"class\",\"featureGroup\"}),column_group.find_all(\"span\",{\"class\",\"featureName\"})):\n",
    "                if \"Lot Size\" in feature_group.text:\n",
    "                    d[\"Lot Size\"]=feature_name.text\n",
    "\n",
    "        l.append(d)\n",
    "\n",
    "     \n",
    "\n",
    "import pandas\n",
    "df=pandas.DataFrame(l)\n",
    "df.to_csv(\"Output.csv\")\n"
   ]
  },
  {
   "cell_type": "code",
   "execution_count": null,
   "metadata": {
    "collapsed": true
   },
   "outputs": [],
   "source": []
  }
 ],
 "metadata": {
  "kernelspec": {
   "display_name": "Python 3",
   "language": "python",
   "name": "python3"
  },
  "language_info": {
   "codemirror_mode": {
    "name": "ipython",
    "version": 3
   },
   "file_extension": ".py",
   "mimetype": "text/x-python",
   "name": "python",
   "nbconvert_exporter": "python",
   "pygments_lexer": "ipython3",
   "version": "3.5.3rc1"
  }
 },
 "nbformat": 4,
 "nbformat_minor": 2
}
